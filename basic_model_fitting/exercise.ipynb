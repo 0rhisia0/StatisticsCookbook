{
 "cells": [
  {
   "cell_type": "markdown",
   "metadata": {
    "slideshow": {
     "slide_type": "slide"
    }
   },
   "source": [
    "# Model-fitting Cookbook\n",
    "\n",
    "## Exercise\n",
    "\n",
    "### A multi-parameter, non-Gaussian model"
   ]
  },
  {
   "cell_type": "markdown",
   "metadata": {},
   "source": [
    "Let's put the methods you've learned to work on a different example.\n",
    "\n",
    "Imagine you've been observing a transient source of some kind, measuring how many \"blips\" it produces over 1 hour each night.\n",
    "\n",
    "A physical model suggests that the average number of blips/hour should decay as\n",
    "\n",
    "$\\mu(t) = A e^{-t/b}$,\n",
    "\n",
    "where $t$ is time since peak in days, $A$ is the blip rate at $t=0$, and $b$ determines the decay rate. We can assume the times are known perfectly, and want to constrain $A$ and $b$. The likelihood for each data point is Poisson, so\n",
    "\n",
    "$\\mathcal{L}(A,b;N) = \\prod_i \\frac{\\mu(t_i)^{N_i} e^{-\\mu(t_i)}}{N_i!}$."
   ]
  },
  {
   "cell_type": "markdown",
   "metadata": {},
   "source": [
    "Work through the same set of tasks as in the worked example notebook: find the best fit, marginalized confidence intervals for $A$ and $b$, joint confidence regions for them, and the goodness of fit.\n",
    "\n",
    "You can and should liberally re-use code from the example notebook, although it will need changes in many places."
   ]
  },
  {
   "cell_type": "markdown",
   "metadata": {},
   "source": [
    "So that you can check your work, here are the best fit and marginalized $1\\sigma$ confidence intervals I get for this data/model. (You may find slightly different numbers due to different grid resolutions and such.)\n",
    "\n",
    "$A=38.7^{+7.3}_{-6.1}$\n",
    "\n",
    "$b=3.14^{+0.48}_{-0.38}$"
   ]
  },
  {
   "cell_type": "markdown",
   "metadata": {},
   "source": [
    "Some hints and things:\n",
    "\n",
    "1. Remember that data do not really have error bars. Do not stress about this.\n",
    "\n",
    "2. When you plot your best-fitting model over the data, it's nice to show the uncertainty on the model prediction. Since this likelihood is Poisson, this is a little annoying to do in detail (the most sensible \"error bars\" to put on the model are asymmetric). Still, it's visually helpful to show some kind of uncertainty on the model, so you could always plot symmetric $\\sqrt{\\mu(t)}$ error bars ($\\sqrt{\\mu}$ being the standard deviation of the Poisson distribution).\n",
    "\n",
    "3. Remember that you can throw out terms in the log-likelihood that do not depend on parameters. (However, it so happens that if you keep all the terms in the Poisson log-likelihood, $S$ will have the same nice properties as $\\chi^2$... for a Sufficiently Large number of data points. The data set used here isn't big enough for this to really hold, but it might be fun to compare your distribution of simulated $S_\\mathrm{min}$ values to the $\\chi^2_\\nu$ distribution at the end, to see how different they are. Note that this requires some care in the implementation of the $S$ function, though. If you try this, use Stirling's formula deal with the factorial, and make sure to handle special cases to avoid dividing by zero or taking the log of zero.)\n",
    "\n",
    "4. Remember that you can use such a minimizer to find the best fit _before_ haphazardly evaluating over a grid.\n",
    "\n",
    "5. `curve_fit` is not your friend here, since the likelihood is not Gaussian. You'll want to use something more general, e.g. `scipy.optimize.minimize`."
   ]
  },
  {
   "cell_type": "code",
   "execution_count": null,
   "metadata": {
    "slideshow": {
     "slide_type": "slide"
    }
   },
   "outputs": [],
   "source": [
    "import numpy as np\n",
    "import scipy.stats as st\n",
    "import matplotlib.pyplot as plt\n",
    "plt.rcParams['xtick.labelsize'] = 'x-large'\n",
    "plt.rcParams['ytick.labelsize'] = 'x-large'\n",
    "%matplotlib inline"
   ]
  },
  {
   "cell_type": "markdown",
   "metadata": {},
   "source": [
    "This will generate a reproducible data set of observation times, `data_t`, and number of blips recorded, `data_N`."
   ]
  },
  {
   "cell_type": "code",
   "execution_count": null,
   "metadata": {},
   "outputs": [],
   "source": [
    "from poisson_example import *"
   ]
  },
  {
   "cell_type": "code",
   "execution_count": null,
   "metadata": {},
   "outputs": [],
   "source": [
    "plt.plot(data_t, data_N, 'o');\n",
    "plt.xlabel('t', fontsize=14);\n",
    "plt.ylabel(r'$N_\\mathrm{blips}$', fontsize=14);"
   ]
  },
  {
   "cell_type": "markdown",
   "metadata": {},
   "source": [
    "Off you go!"
   ]
  },
  {
   "cell_type": "code",
   "execution_count": null,
   "metadata": {},
   "outputs": [],
   "source": []
  }
 ],
 "metadata": {
  "kernelspec": {
   "display_name": "Python 3",
   "language": "python",
   "name": "python3"
  },
  "language_info": {
   "codemirror_mode": {
    "name": "ipython",
    "version": 3
   },
   "file_extension": ".py",
   "mimetype": "text/x-python",
   "name": "python",
   "nbconvert_exporter": "python",
   "pygments_lexer": "ipython3",
   "version": "3.6.8"
  },
  "livereveal": {
   "scroll": true,
   "start_slideshow_at": "selected"
  }
 },
 "nbformat": 4,
 "nbformat_minor": 2
}
